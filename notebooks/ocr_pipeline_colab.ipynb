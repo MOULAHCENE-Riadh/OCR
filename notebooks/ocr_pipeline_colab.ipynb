{
 "cells": [
  {
   "cell_type": "markdown",
   "metadata": {},
   "source": [
    "# Arabic Handwritten OCR Pipeline\n",
    "\n",
    "This notebook demonstrates an end-to-end pipeline for Arabic handwritten OCR using a CNN-BLSTM-CTC model trained on the KHATT dataset."
   ]
  },
  {
   "cell_type": "code",
   "execution_count": 17,
   "metadata": {},
   "outputs": [],
   "source": [
    "# If running on Colab, mount Google Drive (optional)\n",
    "# from google.colab import drive\n",
    "# drive.mount('/content/drive')\n",
    "\n",
    "# Install requirements (uncomment if needed)\n",
    "# !pip install -r project/requirements.txt"
   ]
  },
  {
   "cell_type": "code",
   "execution_count": null,
   "metadata": {},
   "outputs": [
    {
     "name": "stdout",
     "output_type": "stream",
     "text": [
      "Warning: ../project/data/ifn_enit/labels.csv not found, skipping ifn_enit.\n",
      "Warning: ../project/data/ahw/labels.csv not found, skipping ahw.\n",
      "Warning: ../project/data/custom_data/labels.csv not found, skipping custom.\n",
      "Master CSV saved to ../project/data/combined_labels.csv with 1633 samples.\n",
      "True\n",
      "c:\\Users\\riadh\\Desktop\\ocr\\project\\data\\khatt\\labels.csv\n"
     ]
    },
    {
     "ename": "",
     "evalue": "",
     "output_type": "error",
     "traceback": [
      "\u001b[1;31mThe Kernel crashed while executing code in the current cell or a previous cell. \n",
      "\u001b[1;31mPlease review the code in the cell(s) to identify a possible cause of the failure. \n",
      "\u001b[1;31mClick <a href='https://aka.ms/vscodeJupyterKernelCrash'>here</a> for more info. \n",
      "\u001b[1;31mView Jupyter <a href='command:jupyter.viewOutput'>log</a> for further details."
     ]
    }
   ],
   "source": [
    "import sys\n",
    "import os\n",
    "sys.path.append('..')\n",
    "from project.data.loaders import build_master_csv\n",
    "\n",
    "# Build the master CSV for all datasets (here, just KHATT)\n",
    "build_master_csv(\n",
    "    config='../project/data/config.yaml',\n",
    "    output_csv='../project/data/combined_labels.csv'\n",
    ")\n",
    "\n",
    "print(os.path.exists('../project/data/khatt/labels.csv'))\n",
    "print(os.path.abspath('../project/data/khatt/labels.csv'))\n"
   ]
  },
  {
   "cell_type": "code",
   "execution_count": null,
   "metadata": {},
   "outputs": [],
   "source": [
    "\n",
    "from project.data.loaders import get_dataloader\n",
    "import matplotlib.pyplot as plt\n",
    "\n",
    "# Get a batch of preprocessed images\n",
    "dataloader = get_dataloader(['khatt'], batch_size=4, shuffle=False, train=False ,  master_csv='../project/data/combined_labels.csv')\n",
    "images, texts = next(iter(dataloader))\n",
    "\n",
    "# Show images side by side\n",
    "fig, axes = plt.subplots(1, 4, figsize=(16, 4))\n",
    "for i, ax in enumerate(axes):\n",
    "    ax.imshow(images[i][0].numpy(), cmap='gray')\n",
    "    ax.set_title(texts[i])\n",
    "    ax.axis('off')\n",
    "plt.show()"
   ]
  },
  {
   "cell_type": "code",
   "execution_count": null,
   "metadata": {},
   "outputs": [],
   "source": [
    "from project.training.train_ctc import train_ctc\n",
    "\n",
    "# Train the model (adjust epochs and batch_size as needed)\n",
    "model, vocab = train_ctc(\n",
    "    epochs=10,\n",
    "    batch_size=16,\n",
    "    lr=1e-3,\n",
    "    dataset_names=['khatt'],\n",
    "    master_csv='data/combined_labels.csv',\n",
    "    img_height=32,\n",
    "    img_width=128\n",
    ")"
   ]
  },
  {
   "cell_type": "code",
   "execution_count": null,
   "metadata": {},
   "outputs": [],
   "source": [
    "# Save the trained model and vocabulary\n",
    "import torch\n",
    "torch.save(model.state_dict(), 'cnn_blstm_ctc_khatt.pth')\n",
    "import pickle\n",
    "with open('vocab.pkl', 'wb') as f:\n",
    "    pickle.dump(vocab, f)"
   ]
  },
  {
   "cell_type": "markdown",
   "metadata": {},
   "source": [
    "## Next Steps\n",
    "\n",
    "- Evaluate the model on validation/test data.\n",
    "- Visualize predictions.\n",
    "- Integrate with the interactive app."
   ]
  },
  {
   "cell_type": "code",
   "execution_count": null,
   "metadata": {},
   "outputs": [],
   "source": [
    "from project.data.loaders import get_dataloader\n",
    "from project.evaluation.metrics import cer, wer\n",
    "import torch\n",
    "\n",
    "# Set model to evaluation mode\n",
    "model.eval()\n",
    "\n",
    "# Get a validation dataloader (no augmentation)\n",
    "val_loader = get_dataloader(['khatt'], batch_size=16, shuffle=False, train=False)\n",
    "\n",
    "total_cer, total_wer, n = 0, 0, 0\n",
    "all_preds, all_gts = [], []\n",
    "\n",
    "with torch.no_grad():\n",
    "    for images, texts in val_loader:\n",
    "        images = images.to(next(model.parameters()).device)\n",
    "        logits = model(images)  # (T, B, C)\n",
    "        # Greedy decoding\n",
    "        pred_indices = logits.argmax(-1).permute(1, 0)  # (B, T)\n",
    "        for i, pred_seq in enumerate(pred_indices):\n",
    "            # Collapse repeats and remove blanks (assume blank=0)\n",
    "            pred = []\n",
    "            prev = -1\n",
    "            for idx in pred_seq.cpu().numpy():\n",
    "                if idx != prev and idx != 0:\n",
    "                    pred.append(idx)\n",
    "                prev = idx\n",
    "            pred_text = vocab.decode(pred)\n",
    "            gt_text = texts[i]\n",
    "            all_preds.append(pred_text)\n",
    "            all_gts.append(gt_text)\n",
    "            total_cer += cer(pred_text, gt_text)\n",
    "            total_wer += wer(pred_text, gt_text)\n",
    "            n += 1\n",
    "\n",
    "print(f\"Validation CER: {total_cer/n:.3f}\")\n",
    "print(f\"Validation WER: {total_wer/n:.3f}\")\n",
    "\n",
    "# Show a few predictions\n",
    "for i in range(5):\n",
    "    print(f\"GT: {all_gts[i]}\")\n",
    "    print(f\"PR: {all_preds[i]}\")\n",
    "    print('-'*30)"
   ]
  }
 ],
 "metadata": {
  "kernelspec": {
   "display_name": "DM_ENV",
   "language": "python",
   "name": "python3"
  },
  "language_info": {
   "codemirror_mode": {
    "name": "ipython",
    "version": 3
   },
   "file_extension": ".py",
   "mimetype": "text/x-python",
   "name": "python",
   "nbconvert_exporter": "python",
   "pygments_lexer": "ipython3",
   "version": "3.11.10"
  }
 },
 "nbformat": 4,
 "nbformat_minor": 2
}
